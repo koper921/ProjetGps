{
 "cells": [
  {
   "cell_type": "code",
   "execution_count": 1,
   "metadata": {},
   "outputs": [
    {
     "name": "stdout",
     "output_type": "stream",
     "text": [
      "Total GPS points: 2929\n",
      "   Unnamed: 0   sampno  placeno             time_utc           time_local  \\\n",
      "0           1  8447624        3  2014-09-16 05:33:01  2014-09-16 07:33:01   \n",
      "1           2  8447624        3  2014-09-16 05:33:06  2014-09-16 07:33:06   \n",
      "2           3  8447624        3  2014-09-16 05:33:11  2014-09-16 07:33:11   \n",
      "3           4  8447624        3  2014-09-16 05:33:16  2014-09-16 07:33:16   \n",
      "4           5  8447624        3  2014-09-16 05:33:21  2014-09-16 07:33:21   \n",
      "\n",
      "   longitude   latitude    altitude  speed valid  hdop  nbsat  \n",
      "0   2.284952  48.963909  284.100006    2.5     A   1.0      7  \n",
      "1   2.285028  48.963881  282.500000    5.6     A   1.0      7  \n",
      "2   2.285242  48.963832  282.399994    9.5     A   0.9      8  \n",
      "3   2.285622  48.963788  281.500000   12.9     A   1.4      7  \n",
      "4   2.286126  48.963615  282.500000   18.1     A   1.4      7  \n",
      "   Unnamed: 0   sampno  placeno             time_utc           time_local  \\\n",
      "0           1  8447624        3  2014-09-16 05:33:01  2014-09-16 07:33:01   \n",
      "1           2  8447624        3  2014-09-16 05:33:06  2014-09-16 07:33:06   \n",
      "2           3  8447624        3  2014-09-16 05:33:11  2014-09-16 07:33:11   \n",
      "3           4  8447624        3  2014-09-16 05:33:16  2014-09-16 07:33:16   \n",
      "4           5  8447624        3  2014-09-16 05:33:21  2014-09-16 07:33:21   \n",
      "\n",
      "   longitude   latitude    altitude  speed valid  hdop  nbsat      time  \n",
      "0   2.284952  48.963909  284.100006    2.5     A   1.0      7  07:33:01  \n",
      "1   2.285028  48.963881  282.500000    5.6     A   1.0      7  07:33:06  \n",
      "2   2.285242  48.963832  282.399994    9.5     A   0.9      8  07:33:11  \n",
      "3   2.285622  48.963788  281.500000   12.9     A   1.4      7  07:33:16  \n",
      "4   2.286126  48.963615  282.500000   18.1     A   1.4      7  07:33:21  \n"
     ]
    }
   ],
   "source": [
    "\n",
    "import numpy as np\n",
    "import matplotlib.pyplot as plt\n",
    "import pandas as pd\n",
    "import os\n",
    "\n",
    "\n",
    "\n",
    "df_min= pd.read_csv('C:/Users/MyPC/Desktop/Projet Gps/AutreP/Livraison 1_CSV/corrected_gps_information_new.csv')\n",
    "\n",
    "df_min=df_min.loc[df_min['sampno']==8447624,:]\n",
    "%matplotlib inline\n",
    "\n",
    "print ('Total GPS points: ' + str(df_min.shape[0]))\n",
    "\n",
    "import gmplot\n",
    "# declare the center of the map, and how much we want the map zoomed in\n",
    "gmap = gmplot.GoogleMapPlotter(df_min.latitude[0], df_min.longitude[0], 11)\n",
    "gmap.plot(df_min.latitude, df_min.longitude)\n",
    "gmap.draw(\"Utilisateur1Trajerctoire.html\")\n",
    "\n",
    "\n",
    "\n",
    "print(df_min.head())\n",
    "df_min['time']=0\n",
    "for i in range(0,len(df_min)):\n",
    "    df_min.loc[i,'time']=(df_min.loc[i,'time_local']).split(\" \")[1]\n",
    "print(df_min.head())"
   ]
  },
  {
   "cell_type": "code",
   "execution_count": 55,
   "metadata": {},
   "outputs": [
    {
     "name": "stdout",
     "output_type": "stream",
     "text": [
      "Clustered 2929 points to 7 clusters\n",
      "0    [[48.918691, 2.361785], [48.91862, 2.361771], ...\n",
      "1    [[48.908173, 2.327564], [48.908082, 2.327465],...\n",
      "2    [[48.96415, 2.285377], [48.964115, 2.285484], ...\n",
      "3    [[48.966202, 2.283838], [48.966281, 2.283742],...\n",
      "4    [[48.915861, 2.352466], [48.915726, 2.352604],...\n",
      "dtype: object\n",
      "2469\n",
      "7\n"
     ]
    }
   ],
   "source": [
    "from sklearn.cluster import DBSCAN\n",
    "from sklearn import metrics\n",
    "\n",
    "# represent GPS points as (lat, lon)\n",
    "coords = df_min.as_matrix(columns=['latitude', 'longitude'])\n",
    "#coords1= df_min.as_matrix(columns=['lat', 'lng', 'alt', 'date','time'])\n",
    "\n",
    "# earth's radius in km\n",
    "kms_per_radian = 6371.0088\n",
    "# define epsilon as 0.5 kilometers, converted to radians for use by haversine\n",
    "epsilon = 0.02 / kms_per_radian\n",
    "\n",
    "# eps is the max distance that points can be from each other to be considered in a cluster\n",
    "# min_samples is the minimum cluster size (everything else is classified as noise)\n",
    "db = DBSCAN(eps=epsilon, min_samples=15, algorithm='ball_tree', metric='haversine').fit(np.radians(coords))\n",
    "cluster_labels = db.labels_\n",
    "# get the number of clusters (ignore noisy samples which are given the label -1)\n",
    "num_clusters = len(set(cluster_labels) - set([-1]))\n",
    "\n",
    "print ('Clustered ' + str(len(df_min)) + ' points to ' + str(num_clusters) + ' clusters')\n",
    "\n",
    "# turn the clusters in to a pandas series\n",
    "clusters = pd.Series([coords[cluster_labels == n] for n in range(num_clusters)])\n",
    "noise= coords[cluster_labels == -1] \n",
    "print(clusters.head())\n",
    "print(len(noise))\n",
    "print(num_clusters)"
   ]
  },
  {
   "cell_type": "code",
   "execution_count": 39,
   "metadata": {},
   "outputs": [
    {
     "data": {
      "text/plain": [
       "3"
      ]
     },
     "execution_count": 39,
     "metadata": {},
     "output_type": "execute_result"
    }
   ],
   "source": [
    "num_clusters"
   ]
  },
  {
   "cell_type": "code",
   "execution_count": 56,
   "metadata": {},
   "outputs": [],
   "source": [
    "noise= coords[cluster_labels == -1] \n",
    "\n",
    "gmap = gmplot.GoogleMapPlotter(noise[0][0] , noise[0][1]  , 11)\n",
    "#gmap.plot(noise[:,0] , noise[:,1])\n",
    "gmap.scatter(noise[:,0] , noise[:,1], '#3B0B39', size=20, marker=False)\n",
    "gmap.draw(\"Utilisateur1TrajerctoireMoove.html\")\n",
    "\n",
    "\n",
    "noise= coords[cluster_labels == 0] \n",
    "\n",
    "gmap = gmplot.GoogleMapPlotter(noise[0][0] , noise[0][1]  , 11)\n",
    "#gmap.plot(noise[:,0] , noise[:,1])\n",
    "gmap.scatter(noise[:,0] , noise[:,1], '#3B0B39', size=20, marker=False)\n",
    "gmap.draw(\"Utilisateur1TrajerctoireStop1.html\")\n",
    "\n",
    "noise= coords[cluster_labels == 1] \n",
    "\n",
    "gmap = gmplot.GoogleMapPlotter(noise[0][0] , noise[0][1]  , 11)\n",
    "#gmap.plot(noise[:,0] , noise[:,1])\n",
    "gmap.scatter(noise[:,0] , noise[:,1], '#3B0B39', size=20, marker=False)\n",
    "gmap.draw(\"Utilisateur1TrajerctoireStop2.html\")\n",
    "\n",
    "noise= coords[cluster_labels == 2] \n",
    "\n",
    "gmap = gmplot.GoogleMapPlotter(noise[0][0] , noise[0][1]  , 11)\n",
    "#gmap.plot(noise[:,0] , noise[:,1])\n",
    "gmap.scatter(noise[:,0] , noise[:,1], '#3B0B39', size=20, marker=False)\n",
    "gmap.draw(\"Utilisateur1TrajerctoireStop3.html\")\n",
    "\n",
    "noise= coords[cluster_labels == 3] \n",
    "\n",
    "gmap = gmplot.GoogleMapPlotter(noise[0][0] , noise[0][1]  , 11)\n",
    "#gmap.plot(noise[:,0] , noise[:,1])\n",
    "gmap.scatter(noise[:,0] , noise[:,1], '#3B0B39', size=20, marker=False)\n",
    "gmap.draw(\"Utilisateur1TrajerctoireStop4.html\")\n",
    "\n",
    "noise= coords[cluster_labels == 4] \n",
    "\n",
    "gmap = gmplot.GoogleMapPlotter(noise[0][0] , noise[0][1]  , 11)\n",
    "#gmap.plot(noise[:,0] , noise[:,1])\n",
    "gmap.scatter(noise[:,0] , noise[:,1], '#3B0B39', size=20, marker=False)\n",
    "gmap.draw(\"Utilisateur1TrajerctoireStop5.html\")\n",
    "\n",
    "noise= coords[cluster_labels == 5] \n",
    "\n",
    "gmap = gmplot.GoogleMapPlotter(noise[0][0] , noise[0][1]  , 11)\n",
    "#gmap.plot(noise[:,0] , noise[:,1])\n",
    "gmap.scatter(noise[:,0] , noise[:,1], '#3B0B39', size=20, marker=False)\n",
    "gmap.draw(\"Utilisateur1TrajerctoireStop6.html\")\n",
    "\n",
    "noise= coords[cluster_labels == 6] \n",
    "\n",
    "gmap = gmplot.GoogleMapPlotter(noise[0][0] , noise[0][1]  , 11)\n",
    "#gmap.plot(noise[:,0] , noise[:,1])\n",
    "gmap.scatter(noise[:,0] , noise[:,1], '#3B0B39', size=20, marker=False)\n",
    "gmap.draw(\"Utilisateur1TrajerctoireStop7.html\")\n"
   ]
  },
  {
   "cell_type": "code",
   "execution_count": 58,
   "metadata": {
    "collapsed": true
   },
   "outputs": [],
   "source": [
    "from shapely.geometry import MultiPoint\n",
    "from geopy.distance import great_circle\n",
    "def get_centermost_point(cluster):\n",
    "    centroid = (MultiPoint(cluster).centroid.x, MultiPoint(cluster).centroid.y)\n",
    "    centermost_point = min(cluster, key=lambda point: great_circle(point, centroid).m)\n",
    "    return tuple(centermost_point)\n",
    "\n",
    "# get the centroid point for each cluster\n",
    "centermost_points = clusters.map(get_centermost_point)\n",
    "lats, lons = zip(*centermost_points)\n",
    "rep_points = pd.DataFrame({'longitude':lons, 'latitude':lats})"
   ]
  },
  {
   "cell_type": "code",
   "execution_count": 59,
   "metadata": {},
   "outputs": [
    {
     "data": {
      "image/png": "[encoded data removed]",
      "text/plain": [
       "<matplotlib.figure.Figure at 0x24a814c15f8>"
      ]
     },
     "metadata": {},
     "output_type": "display_data"
    }
   ],
   "source": [
    "fig, ax = plt.subplots(figsize=[10, 6])\n",
    "rs_scatter = ax.scatter(rep_points['longitude'][0], rep_points['latitude'][0], c='#99cc99', edgecolor='None', alpha=0.7, s=450)\n",
    "ax.scatter(rep_points['longitude'][1], rep_points['latitude'][1], c='#99cc99', edgecolor='None', alpha=0.7, s=250)\n",
    "ax.scatter(rep_points['longitude'][2], rep_points['latitude'][2], c='#99cc99', edgecolor='None', alpha=0.7, s=250)\n",
    "ax.scatter(rep_points['longitude'][3], rep_points['latitude'][3], c='#99cc99', edgecolor='None', alpha=0.7, s=150)\n",
    "ax.scatter(rep_points['longitude'][4], rep_points['latitude'][4], c='#99cc99', edgecolor='None', alpha=0.7, s=150)\n",
    "ax.scatter(rep_points['longitude'][5], rep_points['latitude'][5], c='#99cc99', edgecolor='None', alpha=0.7, s=150)\n",
    "ax.scatter(rep_points['longitude'][6], rep_points['latitude'][6], c='#99cc99', edgecolor='None', alpha=0.7, s=150)\n",
    "\n",
    "\n",
    "\n",
    "df_scatter = ax.scatter(df_min['longitude'], df_min['latitude'], c='k', alpha=0.9, s=3)\n",
    "ax.set_title('Full GPS trace vs. DBSCAN clusters')\n",
    "ax.set_xlabel('Longitude')\n",
    "ax.set_ylabel('Latitude')\n",
    "ax.legend([df_scatter, rs_scatter], ['GPS points', 'Cluster centers'], loc='upper right')\n",
    "\n",
    "labels = ['cluster{0}'.format(i) for i in range(1, num_clusters+1)]\n",
    "for label, x, y in zip(labels, rep_points['longitude'], rep_points['latitude']):\n",
    "    plt.annotate(\n",
    "        label, \n",
    "        xy = (x, y), xytext = (-25, -30),\n",
    "        textcoords = 'offset points', ha = 'right', va = 'bottom',\n",
    "        bbox = dict(boxstyle = 'round,pad=0.5', fc = 'white', alpha = 0.5),\n",
    "        arrowprops = dict(arrowstyle = '->', connectionstyle = 'arc3,rad=0'))\n",
    "\n",
    "plt.show()"
   ]
  },
  {
   "cell_type": "code",
   "execution_count": 6,
   "metadata": {},
   "outputs": [
    {
     "data": {
      "text/plain": [
       "0    (48.964419, 2.284805)\n",
       "1    (48.953648, 2.302346)\n",
       "2    (48.937265, 2.305665)\n",
       "3     (48.91818, 2.342036)\n",
       "dtype: object"
      ]
     },
     "execution_count": 6,
     "metadata": {},
     "output_type": "execute_result"
    }
   ],
   "source": [
    "centermost_points"
   ]
  },
  {
   "cell_type": "code",
   "execution_count": 55,
   "metadata": {},
   "outputs": [
    {
     "data": {
      "text/html": [
       "<div>\n",
       "<style>\n",
       "    .dataframe thead tr:only-child th {\n",
       "        text-align: right;\n",
       "    }\n",
       "\n",
       "    .dataframe thead th {\n",
       "        text-align: left;\n",
       "    }\n",
       "\n",
       "    .dataframe tbody tr th {\n",
       "        vertical-align: top;\n",
       "    }\n",
       "</style>\n",
       "<table border=\"1\" class=\"dataframe\">\n",
       "  <thead>\n",
       "    <tr style=\"text-align: right;\">\n",
       "      <th></th>\n",
       "      <th>latitude</th>\n",
       "      <th>longitude</th>\n",
       "    </tr>\n",
       "  </thead>\n",
       "  <tbody>\n",
       "    <tr>\n",
       "      <th>0</th>\n",
       "      <td>48.964419</td>\n",
       "      <td>2.284805</td>\n",
       "    </tr>\n",
       "    <tr>\n",
       "      <th>1</th>\n",
       "      <td>48.953648</td>\n",
       "      <td>2.302346</td>\n",
       "    </tr>\n",
       "    <tr>\n",
       "      <th>2</th>\n",
       "      <td>48.937265</td>\n",
       "      <td>2.305665</td>\n",
       "    </tr>\n",
       "    <tr>\n",
       "      <th>3</th>\n",
       "      <td>48.918180</td>\n",
       "      <td>2.342036</td>\n",
       "    </tr>\n",
       "  </tbody>\n",
       "</table>\n",
       "</div>"
      ],
      "text/plain": [
       "    latitude  longitude\n",
       "0  48.964419   2.284805\n",
       "1  48.953648   2.302346\n",
       "2  48.937265   2.305665\n",
       "3  48.918180   2.342036"
      ]
     },
     "execution_count": 55,
     "metadata": {},
     "output_type": "execute_result"
    }
   ],
   "source": [
    "rep_points"
   ]
  },
  {
   "cell_type": "code",
   "execution_count": 19,
   "metadata": {},
   "outputs": [
    {
     "name": "stdout",
     "output_type": "stream",
     "text": [
      "{'07', '20', '18', '16', '22', '23', '08', '19', '13', '17'}\n"
     ]
    },
    {
     "data": {
      "text/plain": [
       "[14, 52, 34, 26, 14, 92, 54, 50, 40, 87, 9, 46, 14, 66, 59, 100, 34, 48, 58]"
      ]
     },
     "execution_count": 19,
     "metadata": {},
     "output_type": "execute_result"
    }
   ],
   "source": [
    "print(set(M[0]))\n",
    "from itertools import groupby\n",
    "[len(list(group)) for key, group in groupby(M[0])]\n",
    " \n",
    "for\n",
    "    "
   ]
  },
  {
   "cell_type": "code",
   "execution_count": 61,
   "metadata": {
    "collapsed": true
   },
   "outputs": [],
   "source": [
    "# Get the hours for each cluster\n",
    "M = []\n",
    "def myfunc(row):\n",
    "    t = df_min[(df_min['latitude']==row[0]) & (df_min['longitude']==row[1])]['time'].iloc[0]\n",
    "    return t[:t.index(':')]\n",
    "for i in range(num_clusters):\n",
    "    hours = np.apply_along_axis(myfunc, 1, clusters[i]).tolist()\n",
    "    M.append(hours)"
   ]
  },
  {
   "cell_type": "code",
   "execution_count": 62,
   "metadata": {},
   "outputs": [
    {
     "data": {
      "text/plain": [
       "(array([ 2.,  0.,  0.,  2.,  0.,  0.,  5.,  0.,  0.,  7.]),\n",
       " array([ 0. ,  0.3,  0.6,  0.9,  1.2,  1.5,  1.8,  2.1,  2.4,  2.7,  3. ]),\n",
       " <a list of 10 Patch objects>)"
      ]
     },
     "execution_count": 62,
     "metadata": {},
     "output_type": "execute_result"
    },
    {
     "name": "stderr",
     "output_type": "stream",
     "text": [
      "D:\\Programmes\\Anaconda2\\lib\\site-packages\\matplotlib\\figure.py:1999: UserWarning: This figure includes Axes that are not compatible with tight_layout, so results might be incorrect.\n",
      "  warnings.warn(\"This figure includes Axes that are not compatible \"\n"
     ]
    },
    {
     "data": {
      "image/png": "[encoded data removed]",
      "text/plain": [
       "<matplotlib.figure.Figure at 0x24a81c3c0b8>"
      ]
     },
     "metadata": {},
     "output_type": "display_data"
    },
    {
     "data": {
      "image/png": "[encoded data removed]",
      "text/plain": [
       "<matplotlib.figure.Figure at 0x24a81c386d8>"
      ]
     },
     "metadata": {},
     "output_type": "display_data"
    }
   ],
   "source": [
    "import matplotlib.pyplot as plt\n",
    "import numpy as np\n",
    "from matplotlib import colors\n",
    "from matplotlib.ticker import PercentFormatter\n",
    "\n",
    "\n",
    "\n",
    "fig, axs = plt.subplots(1, 2, sharey=True, tight_layout=True)\n",
    "#axs[0].text(0, 200, \"cluster 1\")\n",
    "\n",
    "axs[0].hist(M[0] )\n",
    "#axs[0].text(23, 200, \"cluster 2\")\n",
    "\n",
    "axs[1].hist(M[1] )\n",
    "\n",
    "fig1, axs1 = plt.subplots(1, 2, sharey=True, tight_layout=True)\n",
    "#axs1[0].text(0, 700, \"cluster 3\")\n",
    "axs1[0].hist(M[2] )\n",
    "#axs1[1].text(0, 700, \"cluster 4\")\n",
    "axs1[1].hist(M[3] )\n",
    "\n"
   ]
  },
  {
   "cell_type": "code",
   "execution_count": null,
   "metadata": {
    "collapsed": true
   },
   "outputs": [],
   "source": []
  },
  {
   "cell_type": "code",
   "execution_count": 49,
   "metadata": {},
   "outputs": [
    {
     "data": {
      "image/png": "[encoded data removed]",
      "text/plain": [
       "<matplotlib.figure.Figure at 0x24a819246d8>"
      ]
     },
     "metadata": {},
     "output_type": "display_data"
    }
   ],
   "source": [
    "fig, ax = plt.subplots(figsize=[10, 6])\n",
    "rs_scatter = ax.scatter(rep_points['longitude'][0], rep_points['latitude'][0], c='#99cc99', edgecolor='None', alpha=0.7, s=450)\n",
    "ax.scatter(rep_points['longitude'][1], rep_points['latitude'][1], c='#99cc99', edgecolor='None', alpha=0.7, s=250)\n",
    "ax.scatter(rep_points['longitude'][2], rep_points['latitude'][2], c='#99cc99', edgecolor='None', alpha=0.7, s=250)\n",
    "ax.scatter(rep_points['longitude'][3], rep_points['latitude'][3], c='#99cc99', edgecolor='None', alpha=0.7, s=150)\n",
    "ax.scatter(rep_points['longitude'][], rep_points['latitude'][3], c='#99cc99', edgecolor='None', alpha=0.7, s=150)\n",
    "ax.scatter(rep_points['longitude'][3], rep_points['latitude'][3], c='#99cc99', edgecolor='None', alpha=0.7, s=150)\n",
    "ax.scatter(rep_points['longitude'][3], rep_points['latitude'][3], c='#99cc99', edgecolor='None', alpha=0.7, s=150)\n",
    "\n",
    "df_scatter = ax.scatter(df_min['longitude'], df_min['latitude'], c='k', alpha=0.9, s=3)\n",
    "ax.set_title('Full GPS trace vs. DBSCAN clusters')\n",
    "ax.set_xlabel('Longitude')\n",
    "ax.set_ylabel('Latitude')\n",
    "ax.legend([df_scatter, rs_scatter], ['GPS points', 'Cluster centers'], loc='upper right')\n",
    "\n",
    "labels = ['stop1', 'stop2', 'stop3','stop4', 'stop5', 'stop6']\n",
    "for label, x, y in zip(labels, rep_points['longitude'][:num_clusters], rep_points['latitude'][:num_clusters]):\n",
    "    plt.annotate(\n",
    "        label, \n",
    "        xy = (x, y), xytext = (-25, -30),\n",
    "        textcoords = 'offset points', ha = 'right', va = 'bottom',\n",
    "        bbox = dict(boxstyle = 'round,pad=0.5', fc = 'white', alpha = 0.5),\n",
    "        arrowprops = dict(arrowstyle = '->', connectionstyle = 'arc3,rad=0'))\n",
    "\n",
    "plt.show()"
   ]
  },
  {
   "cell_type": "code",
   "execution_count": 50,
   "metadata": {
    "collapsed": true
   },
   "outputs": [],
   "source": [
    "gmap = gmplot.GoogleMapPlotter(rep_points['latitude'][0], rep_points['longitude'][0], 11)\n",
    "gmap.plot(df_min.latitude, df_min.longitude)\n",
    "gmap.heatmap(rep_points['latitude'][:4], rep_points['longitude'][:4], radius=20)\n",
    "gmap.draw(\"1erUtilisateurCluster.html\")"
   ]
  },
  {
   "cell_type": "code",
   "execution_count": null,
   "metadata": {
    "collapsed": true
   },
   "outputs": [],
   "source": []
  },
  {
   "cell_type": "code",
   "execution_count": 72,
   "metadata": {},
   "outputs": [
    {
     "name": "stdout",
     "output_type": "stream",
     "text": [
      "0    [[39.996342, 116.29777800000001, 179, 2008-10-...\n",
      "dtype: object\n"
     ]
    }
   ],
   "source": []
  },
  {
   "cell_type": "code",
   "execution_count": null,
   "metadata": {
    "collapsed": true
   },
   "outputs": [],
   "source": []
  },
  {
   "cell_type": "code",
   "execution_count": null,
   "metadata": {
    "collapsed": true
   },
   "outputs": [],
   "source": []
  },
  {
   "cell_type": "code",
   "execution_count": null,
   "metadata": {
    "collapsed": true
   },
   "outputs": [],
   "source": []
  },
  {
   "cell_type": "code",
   "execution_count": null,
   "metadata": {
    "collapsed": true
   },
   "outputs": [],
   "source": []
  },
  {
   "cell_type": "code",
   "execution_count": null,
   "metadata": {
    "collapsed": true
   },
   "outputs": [],
   "source": []
  },
  {
   "cell_type": "code",
   "execution_count": null,
   "metadata": {
    "collapsed": true
   },
   "outputs": [],
   "source": []
  },
  {
   "cell_type": "code",
   "execution_count": null,
   "metadata": {
    "collapsed": true
   },
   "outputs": [],
   "source": []
  },
  {
   "cell_type": "code",
   "execution_count": null,
   "metadata": {
    "collapsed": true
   },
   "outputs": [],
   "source": []
  },
  {
   "cell_type": "raw",
   "metadata": {},
   "source": []
  },
  {
   "cell_type": "code",
   "execution_count": null,
   "metadata": {
    "collapsed": true
   },
   "outputs": [],
   "source": []
  },
  {
   "cell_type": "code",
   "execution_count": null,
   "metadata": {
    "collapsed": true
   },
   "outputs": [],
   "source": []
  },
  {
   "cell_type": "code",
   "execution_count": null,
   "metadata": {
    "collapsed": true
   },
   "outputs": [],
   "source": []
  },
  {
   "cell_type": "code",
   "execution_count": null,
   "metadata": {
    "collapsed": true
   },
   "outputs": [],
   "source": []
  },
  {
   "cell_type": "code",
   "execution_count": null,
   "metadata": {
    "collapsed": true
   },
   "outputs": [],
   "source": []
  },
  {
   "cell_type": "code",
   "execution_count": null,
   "metadata": {
    "collapsed": true
   },
   "outputs": [],
   "source": []
  },
  {
   "cell_type": "code",
   "execution_count": null,
   "metadata": {
    "collapsed": true
   },
   "outputs": [],
   "source": []
  },
  {
   "cell_type": "code",
   "execution_count": null,
   "metadata": {
    "collapsed": true
   },
   "outputs": [],
   "source": []
  },
  {
   "cell_type": "code",
   "execution_count": null,
   "metadata": {
    "collapsed": true
   },
   "outputs": [],
   "source": []
  },
  {
   "cell_type": "code",
   "execution_count": null,
   "metadata": {
    "collapsed": true
   },
   "outputs": [],
   "source": []
  },
  {
   "cell_type": "code",
   "execution_count": null,
   "metadata": {
    "collapsed": true
   },
   "outputs": [],
   "source": []
  },
  {
   "cell_type": "code",
   "execution_count": null,
   "metadata": {
    "collapsed": true
   },
   "outputs": [],
   "source": [
    "\n"
   ]
  },
  {
   "cell_type": "code",
   "execution_count": null,
   "metadata": {
    "collapsed": true
   },
   "outputs": [],
   "source": []
  },
  {
   "cell_type": "code",
   "execution_count": null,
   "metadata": {
    "collapsed": true
   },
   "outputs": [],
   "source": []
  },
  {
   "cell_type": "code",
   "execution_count": null,
   "metadata": {
    "collapsed": true
   },
   "outputs": [],
   "source": []
  },
  {
   "cell_type": "code",
   "execution_count": null,
   "metadata": {
    "collapsed": true
   },
   "outputs": [],
   "source": []
  },
  {
   "cell_type": "code",
   "execution_count": null,
   "metadata": {
    "collapsed": true
   },
   "outputs": [],
   "source": []
  },
  {
   "cell_type": "code",
   "execution_count": null,
   "metadata": {
    "collapsed": true
   },
   "outputs": [],
   "source": []
  },
  {
   "cell_type": "code",
   "execution_count": null,
   "metadata": {
    "collapsed": true
   },
   "outputs": [],
   "source": []
  },
  {
   "cell_type": "code",
   "execution_count": null,
   "metadata": {
    "collapsed": true
   },
   "outputs": [],
   "source": []
  },
  {
   "cell_type": "code",
   "execution_count": null,
   "metadata": {
    "collapsed": true
   },
   "outputs": [],
   "source": []
  },
  {
   "cell_type": "code",
   "execution_count": null,
   "metadata": {
    "collapsed": true
   },
   "outputs": [],
   "source": []
  },
  {
   "cell_type": "code",
   "execution_count": null,
   "metadata": {
    "collapsed": true
   },
   "outputs": [],
   "source": []
  },
  {
   "cell_type": "code",
   "execution_count": null,
   "metadata": {
    "collapsed": true
   },
   "outputs": [],
   "source": []
  },
  {
   "cell_type": "code",
   "execution_count": null,
   "metadata": {
    "collapsed": true
   },
   "outputs": [],
   "source": []
  },
  {
   "cell_type": "code",
   "execution_count": null,
   "metadata": {
    "collapsed": true
   },
   "outputs": [],
   "source": []
  },
  {
   "cell_type": "code",
   "execution_count": null,
   "metadata": {
    "collapsed": true
   },
   "outputs": [],
   "source": []
  },
  {
   "cell_type": "code",
   "execution_count": null,
   "metadata": {
    "collapsed": true
   },
   "outputs": [],
   "source": []
  },
  {
   "cell_type": "code",
   "execution_count": null,
   "metadata": {
    "collapsed": true
   },
   "outputs": [],
   "source": []
  },
  {
   "cell_type": "code",
   "execution_count": null,
   "metadata": {
    "collapsed": true
   },
   "outputs": [],
   "source": []
  },
  {
   "cell_type": "code",
   "execution_count": null,
   "metadata": {
    "collapsed": true
   },
   "outputs": [],
   "source": []
  },
  {
   "cell_type": "code",
   "execution_count": null,
   "metadata": {
    "collapsed": true
   },
   "outputs": [],
   "source": []
  },
  {
   "cell_type": "code",
   "execution_count": null,
   "metadata": {
    "collapsed": true
   },
   "outputs": [],
   "source": []
  },
  {
   "cell_type": "code",
   "execution_count": null,
   "metadata": {
    "collapsed": true
   },
   "outputs": [],
   "source": []
  },
  {
   "cell_type": "code",
   "execution_count": null,
   "metadata": {
    "collapsed": true
   },
   "outputs": [],
   "source": []
  },
  {
   "cell_type": "code",
   "execution_count": null,
   "metadata": {
    "collapsed": true
   },
   "outputs": [],
   "source": []
  },
  {
   "cell_type": "code",
   "execution_count": null,
   "metadata": {
    "collapsed": true
   },
   "outputs": [],
   "source": []
  },
  {
   "cell_type": "code",
   "execution_count": null,
   "metadata": {
    "collapsed": true
   },
   "outputs": [],
   "source": []
  },
  {
   "cell_type": "code",
   "execution_count": null,
   "metadata": {
    "collapsed": true
   },
   "outputs": [],
   "source": []
  }
 ],
 "metadata": {
  "kernelspec": {
   "display_name": "Python 3",
   "language": "python",
   "name": "python3"
  },
  "language_info": {
   "codemirror_mode": {
    "name": "ipython",
    "version": 3
   },
   "file_extension": ".py",
   "mimetype": "text/x-python",
   "name": "python",
   "nbconvert_exporter": "python",
   "pygments_lexer": "ipython3",
   "version": "3.6.3"
  }
 },
 "nbformat": 4,
 "nbformat_minor": 2
}
